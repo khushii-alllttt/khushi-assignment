{
  "nbformat": 4,
  "nbformat_minor": 0,
  "metadata": {
    "colab": {
      "provenance": [],
      "authorship_tag": "ABX9TyP5j49r/lmxw8AGAcHD4Tac",
      "include_colab_link": true
    },
    "kernelspec": {
      "name": "python3",
      "display_name": "Python 3"
    },
    "language_info": {
      "name": "python"
    }
  },
  "cells": [
    {
      "cell_type": "markdown",
      "metadata": {
        "id": "view-in-github",
        "colab_type": "text"
      },
      "source": [
        "<a href=\"https://colab.research.google.com/github/khushii-alllttt/khushi-assignment/blob/main/Assignment_basics_of_python(khushi_yadav).ipynb\" target=\"_parent\"><img src=\"https://colab.research.google.com/assets/colab-badge.svg\" alt=\"Open In Colab\"/></a>"
      ]
    },
    {
      "cell_type": "code",
      "execution_count": 9,
      "metadata": {
        "colab": {
          "base_uri": "https://localhost:8080/"
        },
        "id": "rb-OalhG_V3Z",
        "outputId": "d44872e4-7343-4cb5-c94e-7b8a56f47ea0"
      },
      "outputs": [
        {
          "output_type": "stream",
          "name": "stdout",
          "text": [
            "After adding 50 and 60: [11, 12, 13, 14, 50, 60]\n",
            "After removing 11 and 13: [12, 14, 50, 60]\n",
            "Sorted ascending: [12, 14, 50, 60]\n",
            "Sorted descending: [60, 50, 14, 12]\n",
            "13 is not present in the list\n",
            "Number of elements in L: 4\n",
            "Sum of all elements: 136\n",
            "Sum of all odd numbers: 0\n",
            "Sum of all even numbers: 136\n",
            "Sum of all prime numbers: 0\n",
            "After clearing L: []\n"
          ]
        }
      ],
      "source": [
        "L = [11, 12, 13, 14]\n",
        "\n",
        "# (i) Add 50 and 60 to L\n",
        "L.append(50)\n",
        "L.append(60)\n",
        "print(\"After adding 50 and 60:\", L)\n",
        "\n",
        "# (ii) Remove 11 and 13 from L\n",
        "if 11 in L:\n",
        "    L.remove(11)\n",
        "if 13 in L:\n",
        "    L.remove(13)\n",
        "print(\"After removing 11 and 13:\", L)\n",
        "\n",
        "# (iii) Sort L in ascending order\n",
        "L.sort()\n",
        "print(\"Sorted ascending:\", L)\n",
        "\n",
        "# (iv) Sort L in descending order\n",
        "L.sort(reverse=True)\n",
        "print(\"Sorted descending:\", L)\n",
        "\n",
        "# (v) Search for 13 in L\n",
        "if 13 in L:\n",
        "    print(\"13 is present in the list\")\n",
        "else:\n",
        "    print(\"13 is not present in the list\")\n",
        "\n",
        "# (vi) Count the number of elements in L\n",
        "count = len(L)\n",
        "print(\"Number of elements in L:\", count)\n",
        "\n",
        "# (vii) Sum all elements in L\n",
        "total_sum = sum(L)\n",
        "print(\"Sum of all elements:\", total_sum)\n",
        "\n",
        "# (viii) Sum all ODD numbers in L\n",
        "odd_sum = sum(x for x in L if x % 2 != 0)\n",
        "print(\"Sum of all odd numbers:\", odd_sum)\n",
        "\n",
        "# (ix) Sum all EVEN numbers in L\n",
        "even_sum = sum(x for x in L if x % 2 == 0)\n",
        "print(\"Sum of all even numbers:\", even_sum)\n",
        "\n",
        "# (x) Sum all PRIME numbers in L\n",
        "def is_prime(n):\n",
        "    if n <= 1:\n",
        "        return False\n",
        "    for i in range(2, int(n**0.5)+1):\n",
        "        if n % i == 0:\n",
        "            return False\n",
        "    return True\n",
        "\n",
        "prime_sum = sum(x for x in L if is_prime(x))\n",
        "print(\"Sum of all prime numbers:\", prime_sum)\n",
        "\n",
        "# (xi) Clear all elements in L\n",
        "L.clear()\n",
        "print(\"After clearing L:\", L)\n",
        "\n",
        "# (xii) Delete L\n",
        "del L\n",
        "# print(L)  # This will cause an error if uncommented because L is deleted\n"
      ]
    },
    {
      "cell_type": "code",
      "source": [
        "D = {1: 5.6, 2: 7.8, 3: 6.6, 4: 8.7, 5: 7.7}\n",
        "\n",
        "# (i) Add new entry key=8, value=8.8\n",
        "D[8] = 8.8\n",
        "print(\"After adding key=8:\", D)\n",
        "\n",
        "# (ii) Remove key=2\n",
        "D.pop(2, None)  # pop with default None to avoid error if key not found\n",
        "print(\"After removing key=2:\", D)\n",
        "\n",
        "# (iii) Check whether key=6 is present in D\n",
        "if 6 in D:\n",
        "    print(\"Key 6 is present in D\")\n",
        "else:\n",
        "    print(\"Key 6 is not present in D\")\n",
        "\n",
        "# (iv) Count the number of elements present in D\n",
        "count = len(D)\n",
        "print(\"Number of elements in D:\", count)\n",
        "\n",
        "# (v) Sum all the values present in D\n",
        "total_sum = sum(D.values())\n",
        "print(\"Sum of all values:\", total_sum)\n",
        "\n",
        "# (vi) Update the value of key=3 to 7.1\n",
        "D[3] = 7.1\n",
        "print(\"After updating value of key=3:\", D)\n",
        "\n",
        "# (vii) Clear the dictionary\n",
        "D.clear()\n",
        "print(\"After clearing dictionary:\", D)\n"
      ],
      "metadata": {
        "colab": {
          "base_uri": "https://localhost:8080/"
        },
        "id": "Wyjq7yHnEEAs",
        "outputId": "25b8710a-2c15-4e9a-a765-263a4176e580"
      },
      "execution_count": 10,
      "outputs": [
        {
          "output_type": "stream",
          "name": "stdout",
          "text": [
            "After adding key=8: {1: 5.6, 2: 7.8, 3: 6.6, 4: 8.7, 5: 7.7, 8: 8.8}\n",
            "After removing key=2: {1: 5.6, 3: 6.6, 4: 8.7, 5: 7.7, 8: 8.8}\n",
            "Key 6 is not present in D\n",
            "Number of elements in D: 5\n",
            "Sum of all values: 37.4\n",
            "After updating value of key=3: {1: 5.6, 3: 7.1, 4: 8.7, 5: 7.7, 8: 8.8}\n",
            "After clearing dictionary: {}\n"
          ]
        }
      ]
    },
    {
      "cell_type": "code",
      "source": [
        "S1 = set([10, 20, 30, 40, 50, 60])\n",
        "S2 = set([40, 50, 60, 70, 80, 90])\n",
        "\n",
        "# (i) Add 55 and 66 to S1\n",
        "S1.add(55)\n",
        "S1.add(66)\n",
        "print(\"After adding 55 and 66 to S1:\", S1)\n",
        "\n",
        "# (ii) Remove 10 and 30 from S1\n",
        "S1.discard(10)  # discard won't raise error if element doesn't exist\n",
        "S1.discard(30)\n",
        "print(\"After removing 10 and 30 from S1:\", S1)\n",
        "\n",
        "# (iii) Check whether 40 is present in S1\n",
        "if 40 in S1:\n",
        "    print(\"40 is present in S1\")\n",
        "else:\n",
        "    print(\"40 is not present in S1\")\n",
        "\n",
        "# (iv) Find union of S1 and S2\n",
        "union_set = S1.union(S2)\n",
        "print(\"Union of S1 and S2:\", union_set)\n",
        "\n",
        "# (v) Find intersection of S1 and S2\n",
        "intersection_set = S1.intersection(S2)\n",
        "print(\"Intersection of S1 and S2:\", intersection_set)\n",
        "\n",
        "# (vi) Find difference S1 - S2\n",
        "difference_set = S1.difference(S2)\n",
        "print(\"Difference S1 - S2:\", difference_set)\n"
      ],
      "metadata": {
        "colab": {
          "base_uri": "https://localhost:8080/"
        },
        "id": "SnYUyuWjESJA",
        "outputId": "6e3701f4-78ad-41db-ce52-4810acac36ee"
      },
      "execution_count": 11,
      "outputs": [
        {
          "output_type": "stream",
          "name": "stdout",
          "text": [
            "After adding 55 and 66 to S1: {66, 40, 10, 50, 20, 55, 60, 30}\n",
            "After removing 10 and 30 from S1: {66, 40, 50, 20, 55, 60}\n",
            "40 is present in S1\n",
            "Union of S1 and S2: {66, 70, 40, 80, 50, 20, 55, 90, 60}\n",
            "Intersection of S1 and S2: {40, 50, 60}\n",
            "Difference S1 - S2: {66, 20, 55}\n"
          ]
        }
      ]
    },
    {
      "cell_type": "code",
      "source": [
        "import random\n",
        "import string\n",
        "\n",
        "# (i) Print 100 random strings of length between 6 and 8\n",
        "for _ in range(100):\n",
        "    length = random.randint(6, 8)\n",
        "    rand_str = ''.join(random.choices(string.ascii_letters, k=length))\n",
        "    print(rand_str)\n",
        "\n",
        "# (ii) Print all prime numbers between 600 and 800\n",
        "def is_prime(n):\n",
        "    if n <= 1:\n",
        "        return False\n",
        "    for i in range(2, int(n**0.5)+1):\n",
        "        if n % i == 0:\n",
        "            return False\n",
        "    return True\n",
        "\n",
        "print(\"\\nPrime numbers between 600 and 800:\")\n",
        "for num in range(600, 801):\n",
        "    if is_prime(num):\n",
        "        print(num, end=\" \")\n",
        "print()\n",
        "\n",
        "# (iii) Print numbers between 100 and 1000 divisible by both 7 and 9\n",
        "print(\"\\nNumbers between 100 and 1000 divisible by 7 and 9:\")\n",
        "for num in range(100, 1001):\n",
        "    if num % 7 == 0 and num % 9 == 0:\n",
        "        print(num, end=\" \")\n",
        "print()\n"
      ],
      "metadata": {
        "colab": {
          "base_uri": "https://localhost:8080/"
        },
        "id": "cSIDFjQ6EULO",
        "outputId": "68eea940-c634-4fb4-f92c-ab51b7a217f4"
      },
      "execution_count": 12,
      "outputs": [
        {
          "output_type": "stream",
          "name": "stdout",
          "text": [
            "MtEWDAGp\n",
            "ADjBZKN\n",
            "xqYLbd\n",
            "GjaxhWp\n",
            "vdimgwKR\n",
            "eSxOzd\n",
            "SGlODG\n",
            "jANcCzaP\n",
            "lhMWaIV\n",
            "lItRsGO\n",
            "PPeqsM\n",
            "dwCjbYPT\n",
            "gaLBsx\n",
            "dvEPKDp\n",
            "RebAay\n",
            "DTJxwghV\n",
            "bbtjFpN\n",
            "JEROyMG\n",
            "ntJNkZTB\n",
            "XTmuXiN\n",
            "UCGkif\n",
            "MkemlG\n",
            "pSGOAk\n",
            "ynuIKtA\n",
            "DqLjfZ\n",
            "htHKfo\n",
            "VPLAlk\n",
            "DRvNtK\n",
            "rMSiQDBb\n",
            "UrizGYdv\n",
            "vJQiQaP\n",
            "SqeFSI\n",
            "WuZlXfu\n",
            "bvxPUDE\n",
            "gSQQtlkJ\n",
            "xQnKgtN\n",
            "paZeSQ\n",
            "vsDOgsb\n",
            "MMYxiJw\n",
            "YoLAAs\n",
            "ZqyFSPf\n",
            "bvhrXXv\n",
            "LYEDZFP\n",
            "iamtVxw\n",
            "sQAlsuuT\n",
            "yXbsfbt\n",
            "xaEQlk\n",
            "dUlfWLG\n",
            "TJkvAns\n",
            "rXsgamcJ\n",
            "rLCUgB\n",
            "WGxredK\n",
            "gWCnYcpv\n",
            "ikaQlggv\n",
            "yKQmpj\n",
            "bGWZNz\n",
            "UOQsYPRi\n",
            "pdxcMBEa\n",
            "vnnZpCW\n",
            "sIbAyEPb\n",
            "sNQmiiqb\n",
            "EotoRLY\n",
            "KCyrpFF\n",
            "zSqHPz\n",
            "ADxYxLom\n",
            "HxgDLT\n",
            "fYEIfNI\n",
            "HChosDf\n",
            "clscJRDF\n",
            "oqpZUHi\n",
            "dIBYiQtY\n",
            "kVkTrNwc\n",
            "PNbyxxqh\n",
            "zSHsIdM\n",
            "wubEIbY\n",
            "GGWJirl\n",
            "BwzlpWyL\n",
            "tPdxBjMh\n",
            "sauegaBp\n",
            "AQCshIhf\n",
            "OQcCIXva\n",
            "pynjHcE\n",
            "jiHBtJLP\n",
            "LlQkkgF\n",
            "cYPLOddE\n",
            "hHRaiTmy\n",
            "mRdIIiuE\n",
            "OMLbai\n",
            "OzEbeM\n",
            "aGxSiHl\n",
            "ulITaph\n",
            "LofCiap\n",
            "mwHZmFX\n",
            "WbYDEv\n",
            "cPkHIws\n",
            "bfHWZQtO\n",
            "hIppnnRX\n",
            "fBWWLLHJ\n",
            "nJarsG\n",
            "CGlZVBDQ\n",
            "\n",
            "Prime numbers between 600 and 800:\n",
            "601 607 613 617 619 631 641 643 647 653 659 661 673 677 683 691 701 709 719 727 733 739 743 751 757 761 769 773 787 797 \n",
            "\n",
            "Numbers between 100 and 1000 divisible by 7 and 9:\n",
            "126 189 252 315 378 441 504 567 630 693 756 819 882 945 \n"
          ]
        }
      ]
    },
    {
      "cell_type": "code",
      "source": [
        "import random\n",
        "\n",
        "# Create two lists of 10 random numbers between 10 and 30\n",
        "list1 = [random.randint(10, 30) for _ in range(10)]\n",
        "list2 = [random.randint(10, 30) for _ in range(10)]\n",
        "\n",
        "print(\"List1:\", list1)\n",
        "print(\"List2:\", list2)\n",
        "\n",
        "# (i) Common numbers in the two lists\n",
        "common_numbers = list(set(list1).intersection(list2))\n",
        "print(\"Common numbers:\", common_numbers)\n",
        "\n",
        "# (ii) Unique numbers in both lists\n",
        "unique_numbers = list(set(list1).union(list2))\n",
        "print(\"Unique numbers:\", unique_numbers)\n",
        "\n",
        "# (iii) Minimum in both lists\n",
        "min_list1 = min(list1)\n",
        "min_list2 = min(list2)\n",
        "print(\"Minimum in list1:\", min_list1)\n",
        "print(\"Minimum in list2:\", min_list2)\n",
        "\n",
        "# (iv) Maximum in both lists\n",
        "max_list1 = max(list1)\n",
        "max_list2 = max(list2)\n",
        "print(\"Maximum in list1:\", max_list1)\n",
        "print(\"Maximum in list2:\", max_list2)\n",
        "\n",
        "# (v) Sum of both lists\n",
        "sum_list1 = sum(list1)\n",
        "sum_list2 = sum(list2)\n",
        "print(\"Sum of list1:\", sum_list1)\n",
        "print(\"Sum of list2:\", sum_list2)\n"
      ],
      "metadata": {
        "colab": {
          "base_uri": "https://localhost:8080/"
        },
        "id": "XIF2fyHKEYZY",
        "outputId": "8bd7f1e8-2d22-49c1-da83-640992bcd971"
      },
      "execution_count": 20,
      "outputs": [
        {
          "output_type": "stream",
          "name": "stdout",
          "text": [
            "List1: [14, 23, 14, 22, 29, 14, 23, 13, 24, 19]\n",
            "List2: [21, 14, 18, 22, 22, 21, 18, 26, 18, 26]\n",
            "Common numbers: [14, 22]\n",
            "Unique numbers: [13, 14, 18, 19, 21, 22, 23, 24, 26, 29]\n",
            "Minimum in list1: 13\n",
            "Minimum in list2: 14\n",
            "Maximum in list1: 29\n",
            "Maximum in list2: 26\n",
            "Sum of list1: 195\n",
            "Sum of list2: 206\n"
          ]
        }
      ]
    },
    {
      "cell_type": "code",
      "source": [
        "import random\n",
        "\n",
        "def is_prime(n):\n",
        "    if n <= 1:\n",
        "        return False\n",
        "    for i in range(2, int(n**0.5)+1):\n",
        "        if n % i == 0:\n",
        "            return False\n",
        "    return True\n",
        "\n",
        "numbers = [random.randint(100, 900) for _ in range(100)]\n",
        "\n",
        "odd_count = sum(1 for x in numbers if x % 2 != 0)\n",
        "even_count = sum(1 for x in numbers if x % 2 == 0)\n",
        "prime_count = sum(1 for x in numbers if is_prime(x))\n",
        "\n",
        "print(\"Total numbers generated:\", len(numbers))\n",
        "print(\"Odd numbers count:\", odd_count)\n",
        "print(\"Even numbers count:\", even_count)\n",
        "print(\"Prime numbers count:\", prime_count)\n"
      ],
      "metadata": {
        "colab": {
          "base_uri": "https://localhost:8080/"
        },
        "id": "XO4omK9tFCoC",
        "outputId": "537f9f32-b4f7-4f6a-adb7-54cce834b6ae"
      },
      "execution_count": 14,
      "outputs": [
        {
          "output_type": "stream",
          "name": "stdout",
          "text": [
            "Total numbers generated: 100\n",
            "Odd numbers count: 49\n",
            "Even numbers count: 51\n",
            "Prime numbers count: 11\n"
          ]
        }
      ]
    },
    {
      "cell_type": "code",
      "source": [
        "D = {1:\"One\", 2:\"Two\", 3:\"Three\", 4:\"Four\", 5:\"Five\"}\n",
        "\n",
        "with open(\"dictionary_output.txt\", \"w\") as f:\n",
        "    for key, value in D.items():\n",
        "        f.write(f\"{key}, {value}\\n\")\n",
        "\n",
        "print(\"Dictionary keys and values written to dictionary_output.txt\")\n"
      ],
      "metadata": {
        "colab": {
          "base_uri": "https://localhost:8080/"
        },
        "id": "IrrRYkRPFE3M",
        "outputId": "f1624a49-148e-4830-ff64-ebe99184b304"
      },
      "execution_count": 15,
      "outputs": [
        {
          "output_type": "stream",
          "name": "stdout",
          "text": [
            "Dictionary keys and values written to dictionary_output.txt\n"
          ]
        }
      ]
    },
    {
      "cell_type": "code",
      "source": [
        "L = [\"One\", \"Two\", \"Three\", \"Four\", \"Five\"]\n",
        "\n",
        "with open(\"length_output.txt\", \"w\") as f:\n",
        "    for word in L:\n",
        "        f.write(f\"{word}, {len(word)}\\n\")\n",
        "\n",
        "print(\"List elements and their lengths written to length_output.txt\")\n"
      ],
      "metadata": {
        "colab": {
          "base_uri": "https://localhost:8080/"
        },
        "id": "m2pntD3iFICY",
        "outputId": "57b8d7f1-c5a8-4b20-aa44-b33604d86c08"
      },
      "execution_count": 16,
      "outputs": [
        {
          "output_type": "stream",
          "name": "stdout",
          "text": [
            "List elements and their lengths written to length_output.txt\n"
          ]
        }
      ]
    },
    {
      "cell_type": "code",
      "source": [
        "import random\n",
        "import string\n",
        "\n",
        "with open(\"random_strings.txt\", \"w\") as f:\n",
        "    for _ in range(100):\n",
        "        length = random.randint(10, 15)\n",
        "        rand_str = ''.join(random.choices(string.ascii_letters, k=length))\n",
        "        f.write(rand_str + \"\\n\")\n",
        "\n",
        "print(\"100 random strings written to random_strings.txt\")\n",
        "\n"
      ],
      "metadata": {
        "colab": {
          "base_uri": "https://localhost:8080/"
        },
        "id": "f5irbgtPFLqa",
        "outputId": "0fbd16c7-7239-457a-af65-6bd3851774bb"
      },
      "execution_count": 17,
      "outputs": [
        {
          "output_type": "stream",
          "name": "stdout",
          "text": [
            "100 random strings written to random_strings.txt\n"
          ]
        }
      ]
    },
    {
      "cell_type": "code",
      "source": [
        "def is_prime(n):\n",
        "    if n <= 1:\n",
        "        return False\n",
        "    for i in range(2, int(n**0.5) + 1):\n",
        "        if n % i == 0:\n",
        "            return False\n",
        "    return True\n",
        "\n",
        "with open(\"primes_600_800.txt\", \"w\") as f:\n",
        "    for num in range(600, 801):\n",
        "        if is_prime(num):\n",
        "            f.write(str(num) + \"\\n\")\n",
        "\n",
        "print(\"Prime numbers between 600 and 800 written to primes_600_800.txt\")\n"
      ],
      "metadata": {
        "colab": {
          "base_uri": "https://localhost:8080/"
        },
        "id": "iOMAE7YOFQ60",
        "outputId": "73dbb35f-016f-44d4-868a-a1edae685884"
      },
      "execution_count": 18,
      "outputs": [
        {
          "output_type": "stream",
          "name": "stdout",
          "text": [
            "Prime numbers between 600 and 800 written to primes_600_800.txt\n"
          ]
        }
      ]
    },
    {
      "cell_type": "code",
      "source": [
        "import time\n",
        "\n",
        "start_time = time.time()\n",
        "\n",
        "# Your program code here\n",
        "# Example: a simple loop\n",
        "total = 0\n",
        "for i in range(1000000):\n",
        "    total += i\n",
        "\n",
        "end_time = time.time()\n",
        "\n",
        "print(\"Time taken by the program: {:.6f} seconds\".format(end_time - start_time))\n"
      ],
      "metadata": {
        "colab": {
          "base_uri": "https://localhost:8080/"
        },
        "id": "AaD8YqPdFTDD",
        "outputId": "675c2276-57f1-4527-c0bf-aed87a9c1d87"
      },
      "execution_count": 19,
      "outputs": [
        {
          "output_type": "stream",
          "name": "stdout",
          "text": [
            "Time taken by the program: 0.124167 seconds\n"
          ]
        }
      ]
    },
    {
      "cell_type": "code",
      "source": [
        "import random\n",
        "import time\n",
        "import matplotlib.pyplot as plt\n",
        "\n",
        "sizes = [5000, 10000, 15000, 20000, 25000]\n",
        "times = []\n",
        "\n",
        "for size in sizes:\n",
        "    lst = [random.randint(1, 100000) for _ in range(size)]\n",
        "    start_time = time.time()\n",
        "    lst.sort()\n",
        "    end_time = time.time()\n",
        "    elapsed = end_time - start_time\n",
        "    times.append(elapsed)\n",
        "    print(f\"Sorted list of size {size} in {elapsed:.6f} seconds\")\n",
        "\n",
        "# Plotting\n",
        "plt.plot(sizes, times, marker='o')\n",
        "plt.title(\"Time Taken to Sort Lists of Different Sizes\")\n",
        "plt.xlabel(\"Number of Elements\")\n",
        "plt.ylabel(\"Time Taken (seconds)\")\n",
        "plt.grid(True)\n",
        "plt.show()\n"
      ],
      "metadata": {
        "colab": {
          "base_uri": "https://localhost:8080/",
          "height": 559
        },
        "id": "XRlSx5cfHF0D",
        "outputId": "d6a9a982-a428-42bb-e886-c8b698ca925d"
      },
      "execution_count": 21,
      "outputs": [
        {
          "output_type": "stream",
          "name": "stdout",
          "text": [
            "Sorted list of size 5000 in 0.006231 seconds\n",
            "Sorted list of size 10000 in 0.002444 seconds\n",
            "Sorted list of size 15000 in 0.003793 seconds\n",
            "Sorted list of size 20000 in 0.005314 seconds\n",
            "Sorted list of size 25000 in 0.007237 seconds\n"
          ]
        },
        {
          "output_type": "display_data",
          "data": {
            "text/plain": [
              "<Figure size 640x480 with 1 Axes>"
            ],
            "image/png": "[encoded data removed]"
          },
          "metadata": {}
        }
      ]
    },
    {
      "cell_type": "code",
      "source": [
        "# Sample dictionary: student_name -> list of 5 subject marks\n",
        "student_marks = {\n",
        "    \"Alice\": [85, 92, 78, 90, 88],\n",
        "    \"Bob\": [75, 80, 72, 70, 78],\n",
        "    \"Charlie\": [95, 88, 92, 94, 90],\n",
        "    \"David\": [60, 65, 58, 62, 64],\n",
        "    \"Eva\": [88, 85, 91, 89, 87]\n",
        "}\n",
        "\n",
        "averages = {student: sum(marks)/len(marks) for student, marks in student_marks.items()}\n",
        "\n",
        "max_student = max(averages, key=averages.get)\n",
        "min_student = min(averages, key=averages.get)\n",
        "\n",
        "print(f\"Student with maximum average: {max_student} ({averages[max_student]:.2f})\")\n",
        "print(f\"Student with minimum average: {min_student} ({averages[min_student]:.2f})\")\n"
      ],
      "metadata": {
        "colab": {
          "base_uri": "https://localhost:8080/"
        },
        "id": "LVc50v68HIfE",
        "outputId": "cd913532-67e3-41b8-8d49-84bee1a12ddf"
      },
      "execution_count": 22,
      "outputs": [
        {
          "output_type": "stream",
          "name": "stdout",
          "text": [
            "Student with maximum average: Charlie (91.80)\n",
            "Student with minimum average: David (61.80)\n"
          ]
        }
      ]
    }
  ]
}